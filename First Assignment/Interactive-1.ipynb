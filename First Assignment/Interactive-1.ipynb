{
 "cells": [
  {
   "cell_type": "markdown",
   "metadata": {
    "isInteractiveWindowMessageCell": true
   },
   "source": [
    "Connected to Python 3.12.0"
   ]
  },
  {
   "cell_type": "code",
   "execution_count": 1,
   "metadata": {},
   "outputs": [],
   "source": [
    "import numpy as np\n",
    "import cv2\n",
    "from matplotlib import pyplot as plt\n",
    "from PIL import Image\n",
    "\n",
    "from UZ_utils import *\n",
    "\n",
    "# e) ----------------------------------------------------------------------------\n",
    "# Create a mask of the image bird.jpg with Otsu`s method` threshold \n",
    "def myhist(I, bins):\n",
    "    H = np.zeros(bins) # Creation of the array that will contain the values of the histogram\n",
    "    I.reshape(-1) # Transform I into a 1D array\n",
    "    \n",
    "    # Max and min values in I\n",
    "    Imax = np.max(I)\n",
    "    Imin = np.min(I)\n",
    "\n",
    "    print(Imin, Imax)\n",
    "\n",
    "    lim = (Imax - Imin)/bins\n",
    "\n",
    "    for x in range(bins):\n",
    "        for i in range(I.shape[0]):\n",
    "            for j in range(I.shape[1]):\n",
    "                lim_inf = (x*lim) + Imin\n",
    "                lim_sup = (x+1) * lim + Imin\n",
    "                \n",
    "                if (lim_inf <= I[i,j] and I[i,j] < lim_sup):\n",
    "                    H[x] = H[x] + 1\n",
    "        \n",
    "    return H\n",
    "\n",
    "# Image\n",
    "Img = imread('images/bird.jpg') # --> Image values are from [0,1] float\n",
    "\n",
    "I_gray = ((Img[:,:,0] + Img[:,:,1] + Img[:,:,2]) / 3)"
   ]
  },
  {
   "cell_type": "code",
   "execution_count": 2,
   "metadata": {},
   "outputs": [
    {
     "name": "stdout",
     "output_type": "stream",
     "text": [
      "0.00130718954248366 0.9934640522875817\n"
     ]
    }
   ],
   "source": [
    "# Otsu's method\n",
    "# 1. Histrogram of the image\n",
    "Hist = myhist(I_gray,10)"
   ]
  },
  {
   "cell_type": "code",
   "execution_count": 3,
   "metadata": {},
   "outputs": [],
   "source": [
    "# 2. Normalized Hist / Probability of each intensity\n",
    "Hist_normalized = Hist / (I_gray.shape[0] * I_gray.shape[1])"
   ]
  },
  {
   "cell_type": "code",
   "execution_count": 5,
   "metadata": {},
   "outputs": [
    {
     "name": "stdout",
     "output_type": "stream",
     "text": [
      "314879.0 0.9999968241869919\n"
     ]
    }
   ],
   "source": [
    "print(Hist.sum(), Hist_normalized.sum())"
   ]
  },
  {
   "cell_type": "code",
   "execution_count": null,
   "metadata": {},
   "outputs": [],
   "source": []
  }
 ],
 "metadata": {
  "kernelspec": {
   "display_name": "Python 3",
   "language": "python",
   "name": "python3"
  },
  "language_info": {
   "codemirror_mode": {
    "name": "ipython",
    "version": 3
   },
   "file_extension": ".py",
   "mimetype": "text/x-python",
   "name": "python",
   "nbconvert_exporter": "python",
   "pygments_lexer": "ipython3",
   "version": "3.12.0"
  }
 },
 "nbformat": 4,
 "nbformat_minor": 2
}
